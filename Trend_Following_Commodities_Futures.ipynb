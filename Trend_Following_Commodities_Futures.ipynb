{
 "cells": [
  {
   "cell_type": "code",
   "execution_count": null,
   "metadata": {},
   "outputs": [],
   "source": [
    "import numpy as np\n",
    "import pandas as pd\n",
    "import matplotlib.pyplot as plt\n",
    "import yfinance as yf\n",
    "from collections import deque\n",
    "import scipy.stats as s "
   ]
  },
  {
   "cell_type": "code",
   "execution_count": null,
   "metadata": {},
   "outputs": [],
   "source": [
    "# Data import\n",
    "tickers_list = ['MGC=F', 'SIL=F', 'CL=F', 'NG=F', 'ZL=F', 'HG=F']\n",
    "tickers_list_length = len(tickers_list)\n",
    "\n",
    "data = yf.download(tickers=tickers_list, period=\"2y\", interval=\"1h\").reset_index(drop=True)\n",
    "data.tail()"
   ]
  },
  {
   "cell_type": "code",
   "execution_count": null,
   "metadata": {},
   "outputs": [],
   "source": [
    "# Forward fill NULL values with the average of the last 5 values, and drop the first few NaN rows\n",
    "\n",
    "Adj_Closed = data['Adj Close'][:].fillna(method = \"ffill\", limit = 5).dropna()\n",
    "High = data['High'][:].fillna(method = \"ffill\", limit = 5).dropna()\n",
    "Low = data['Low'][:].fillna(method = \"ffill\", limit = 5).dropna()"
   ]
  },
  {
   "cell_type": "code",
   "execution_count": null,
   "metadata": {},
   "outputs": [],
   "source": [
    "High['CL=F'].index.max()"
   ]
  },
  {
   "cell_type": "code",
   "execution_count": 5,
   "metadata": {},
   "outputs": [
    {
     "ename": "NameError",
     "evalue": "name 'last_model' is not defined",
     "output_type": "error",
     "traceback": [
      "\u001b[1;31m---------------------------------------------------------------------------\u001b[0m",
      "\u001b[1;31mNameError\u001b[0m                                 Traceback (most recent call last)",
      "Cell \u001b[1;32mIn[5], line 24\u001b[0m\n\u001b[0;32m     20\u001b[0m     \u001b[38;5;28mprint\u001b[39m(y_vals)\n\u001b[0;32m     21\u001b[0m     \u001b[38;5;28;01mreturn\u001b[39;00m models\n\u001b[1;32m---> 24\u001b[0m models \u001b[38;5;241m=\u001b[39m \u001b[43mcreate_linear_models\u001b[49m\u001b[43m(\u001b[49m\u001b[43mAdj_Closed\u001b[49m\u001b[43m[\u001b[49m\u001b[38;5;124;43m\"\u001b[39;49m\u001b[38;5;124;43mCL=F\u001b[39;49m\u001b[38;5;124;43m\"\u001b[39;49m\u001b[43m]\u001b[49m\u001b[43m,\u001b[49m\u001b[43m \u001b[49m\u001b[43mwindow_size\u001b[49m\u001b[38;5;241;43m=\u001b[39;49m\u001b[38;5;241;43m50\u001b[39;49m\u001b[43m)\u001b[49m\n\u001b[0;32m     25\u001b[0m last_model \u001b[38;5;241m=\u001b[39m models[\u001b[38;5;241m-\u001b[39m\u001b[38;5;241m1\u001b[39m]\n\u001b[0;32m     26\u001b[0m slope \u001b[38;5;241m=\u001b[39m last_model[\u001b[38;5;241m0\u001b[39m]\n",
      "Cell \u001b[1;32mIn[5], line 9\u001b[0m, in \u001b[0;36mcreate_linear_models\u001b[1;34m(data, window_size)\u001b[0m\n\u001b[0;32m      6\u001b[0m     slope, intercept, r_value, p_value, std_err \u001b[38;5;241m=\u001b[39m s\u001b[38;5;241m.\u001b[39mlinregress(x, y)\n\u001b[0;32m      7\u001b[0m     models\u001b[38;5;241m.\u001b[39mappend((slope, intercept, r_value\u001b[38;5;241m*\u001b[39m\u001b[38;5;241m*\u001b[39m\u001b[38;5;241m2\u001b[39m))\n\u001b[1;32m----> 9\u001b[0m slope \u001b[38;5;241m=\u001b[39m \u001b[43mlast_model\u001b[49m[\u001b[38;5;241m0\u001b[39m]\n\u001b[0;32m     10\u001b[0m intercept \u001b[38;5;241m=\u001b[39m last_model[\u001b[38;5;241m1\u001b[39m]\n\u001b[0;32m     12\u001b[0m x_vals \u001b[38;5;241m=\u001b[39m [\u001b[38;5;241m0\u001b[39m, \u001b[38;5;241m1\u001b[39m, \u001b[38;5;241m2\u001b[39m, \u001b[38;5;241m3\u001b[39m, \u001b[38;5;241m4\u001b[39m, \u001b[38;5;241m5\u001b[39m]  \u001b[38;5;66;03m# example x values\u001b[39;00m\n",
      "\u001b[1;31mNameError\u001b[0m: name 'last_model' is not defined"
     ]
    }
   ],
   "source": [
    "def create_linear_models(data, window_size=50):\n",
    "    models = []\n",
    "    for i in range(len(data) - window_size):\n",
    "        x = data.index[i : i + window_size]\n",
    "        y = data[i : i + window_size]\n",
    "        slope, intercept, r_value, p_value, std_err = s.linregress(x, y)\n",
    "        models.append((slope, intercept, r_value**2))\n",
    "        \n",
    "    slope = last_model[0]\n",
    "    intercept = last_model[1]\n",
    "\n",
    "    x_vals = [0, 1, 2, 3, 4, 5]  # example x values\n",
    "\n",
    "    y_vals = []\n",
    "    for x in x_vals:\n",
    "        y = slope * x + intercept\n",
    "        y_vals.append(y)\n",
    "\n",
    "    print(x_vals)\n",
    "    print(y_vals)\n",
    "    return models\n",
    "\n",
    "\n",
    "models = create_linear_models(Adj_Closed[\"CL=F\"], window_size=50)\n",
    "last_model = models[-1]\n",
    "slope = last_model[0]\n",
    "intercept = last_model[1]\n",
    "r_squared = last_model[2]\n",
    "last_model"
   ]
  },
  {
   "cell_type": "code",
   "execution_count": null,
   "metadata": {},
   "outputs": [],
   "source": [
    "def create_linear_models(data, window_size=50):\n",
    "    models = []\n",
    "    coords = []\n",
    "    y_vals = []\n",
    "\n",
    "    for i in range(len(data) - window_size):\n",
    "        x = data.index[i:i+window_size] \n",
    "        y = data[i:i+window_size]\n",
    "        \n",
    "        slope, intercept, r_value, p_value, std_err = s.linregress(x, y)\n",
    "        \n",
    "        models.append((slope, intercept, r_value**2))\n",
    "        \n",
    "        for j in x:\n",
    "            y = slope*j + intercept   \n",
    "            y_vals.append(y)\n",
    "        coords.append((x, y_vals))\n",
    "        \n",
    "    return models, coords\n",
    "\n",
    "models, coords = create_linear_models(Adj_Closed['CL=F'])\n",
    "\n",
    "# print(models) \n",
    "print(coords)"
   ]
  }
 ],
 "metadata": {
  "kernelspec": {
   "display_name": "Python 3",
   "language": "python",
   "name": "python3"
  },
  "language_info": {
   "codemirror_mode": {
    "name": "ipython",
    "version": 3
   },
   "file_extension": ".py",
   "mimetype": "text/x-python",
   "name": "python",
   "nbconvert_exporter": "python",
   "pygments_lexer": "ipython3",
   "version": "3.12.0"
  }
 },
 "nbformat": 4,
 "nbformat_minor": 2
}
