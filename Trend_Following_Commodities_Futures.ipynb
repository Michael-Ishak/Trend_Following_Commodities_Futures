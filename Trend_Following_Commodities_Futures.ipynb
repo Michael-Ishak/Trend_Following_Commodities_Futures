{
 "cells": [
  {
   "cell_type": "code",
   "execution_count": null,
   "metadata": {},
   "outputs": [],
   "source": [
    "import numpy as np\n",
    "import pandas as pd\n",
    "import matplotlib.pyplot as plt\n",
    "import yfinance as yf\n",
    "from collections import deque\n",
    "import scipy.stats as s "
   ]
  },
  {
   "cell_type": "code",
   "execution_count": null,
   "metadata": {},
   "outputs": [],
   "source": [
    "# Data import\n",
    "tickers_list = ['MGC=F', 'SIL=F', 'CL=F', 'NG=F', 'ZL=F', 'HG=F']\n",
    "tickers_list_length = len(tickers_list)\n",
    "\n",
    "data = yf.download(tickers=tickers_list, period=\"2y\", interval=\"1h\").reset_index(drop=True)\n",
    "data.tail()"
   ]
  },
  {
   "cell_type": "code",
   "execution_count": null,
   "metadata": {},
   "outputs": [],
   "source": [
    "# Forward fill NULL values with the average of the last 5 values, and drop the first few NaN rows\n",
    "\n",
    "Adj_Closed = data['Adj Close'][:].fillna(method = \"ffill\", limit = 5).dropna()\n",
    "High = data['High'][:].fillna(method = \"ffill\", limit = 5).dropna()\n",
    "Low = data['Low'][:].fillna(method = \"ffill\", limit = 5).dropna()"
   ]
  },
  {
   "cell_type": "code",
   "execution_count": null,
   "metadata": {},
   "outputs": [],
   "source": [
    "High['CL=F'].index.max()"
   ]
  },
  {
   "cell_type": "code",
   "execution_count": null,
   "metadata": {},
   "outputs": [],
   "source": [
    "def create_linear_models(data, window_size=50):\n",
    "    models = []\n",
    "    coords = []\n",
    "    y_vals = []\n",
    "\n",
    "    for i in range(0, len(data), window_size):\n",
    "        x = data.index[i:i+window_size] \n",
    "        y = data[i:i+window_size]\n",
    "        \n",
    "        slope, intercept, r_value, p_value, std_err = s.linregress(x, y)\n",
    "        \n",
    "        models.append((slope, intercept, r_value**2))\n",
    "        \n",
    "        for j in x:\n",
    "            y = slope*j + intercept   \n",
    "            y_vals.append(y)\n",
    "        coords.append((x, y_vals))\n",
    "        \n",
    "    return models, coords\n",
    "\n",
    "models, coords = create_linear_models(Adj_Closed['CL=F'])\n",
    "\n",
    "# print(models) \n",
    "print(coords)"
   ]
  },
  {
   "cell_type": "code",
   "execution_count": null,
   "metadata": {},
   "outputs": [],
   "source": [
    "class LinearRegressionChannels:\n",
    "    # y = mx + c\n",
    "    def __init__(self, period, data):\n",
    "        self.period = period\n",
    "        self.data = data\n",
    "\n",
    "    def LRMid(self, data):\n",
    "        s.linregress(data.index, data)\n",
    "\n",
    "        for i in range(data.shape[0]):\n",
    "            \n",
    "            data[i : self.period + i]\n",
    "    def LRTop(self, data):\n",
    "        high = []\n",
    "        for i in range(data.shape[0]):\n",
    "\n",
    "    def LRLow(self, data):\n",
    "        low = []\n",
    "        for i in range(data.shape[0]):\n"
   ]
  }
 ],
 "metadata": {
  "kernelspec": {
   "display_name": "Python 3",
   "language": "python",
   "name": "python3"
  },
  "language_info": {
   "codemirror_mode": {
    "name": "ipython",
    "version": 3
   },
   "file_extension": ".py",
   "mimetype": "text/x-python",
   "name": "python",
   "nbconvert_exporter": "python",
   "pygments_lexer": "ipython3",
   "version": "3.12.0"
  }
 },
 "nbformat": 4,
 "nbformat_minor": 2
}
